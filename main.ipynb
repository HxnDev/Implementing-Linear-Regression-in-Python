{
 "cells": [
  {
   "cell_type": "markdown",
   "metadata": {
    "internals": {
     "slide_type": "subslide"
    },
    "slideshow": {
     "slide_type": "slide"
    }
   },
   "source": [
    "# Linear Regression\n"
   ]
  },
  {
   "cell_type": "code",
   "execution_count": 1,
   "metadata": {
    "internals": {},
    "slideshow": {
     "slide_type": "-"
    }
   },
   "outputs": [
    {
     "name": "stdout",
     "output_type": "stream",
     "text": [
      "Populating the interactive namespace from numpy and matplotlib\n"
     ]
    }
   ],
   "source": [
    "%pylab inline\n",
    "plt.style.use('ggplot')\n",
    "plt.rcParams['image.interpolation'] = 'nearest'"
   ]
  },
  {
   "cell_type": "markdown",
   "metadata": {},
   "source": [
    "$$ f(x) = x^4-4x^3+2 $$"
   ]
  },
  {
   "cell_type": "code",
   "execution_count": 2,
   "metadata": {},
   "outputs": [],
   "source": [
    "f=lambda x: x**4-4*x**3+2"
   ]
  },
  {
   "cell_type": "code",
   "execution_count": 3,
   "metadata": {
    "internals": {
     "slide_helper": "subslide_end",
     "slide_type": "subslide"
    },
    "slide_helper": "slide_end",
    "slideshow": {
     "slide_type": "slide"
    }
   },
   "outputs": [
    {
     "data": {
      "text/plain": [
       "[<matplotlib.lines.Line2D at 0x135d394fb80>]"
      ]
     },
     "execution_count": 3,
     "metadata": {},
     "output_type": "execute_result"
    },
    {
     "data": {
      "image/png": "[encoded data removed]",
      "text/plain": [
       "<Figure size 432x288 with 1 Axes>"
      ]
     },
     "metadata": {},
     "output_type": "display_data"
    }
   ],
   "source": [
    "x=np.linspace(-5,5,1000)\n",
    "y= f(x)\n",
    "plt.plot(x,y)"
   ]
  },
  {
   "cell_type": "markdown",
   "metadata": {
    "internals": {
     "slide_type": "subslide"
    },
    "slideshow": {
     "slide_type": "slide"
    }
   },
   "source": [
    "### Brute-force Search\n",
    "Lets do a brute-force search for the given variable in the limit."
   ]
  },
  {
   "cell_type": "code",
   "execution_count": 4,
   "metadata": {
    "internals": {
     "frag_number": 5,
     "slide_helper": "subslide_end"
    },
    "slide_helper": "slide_end",
    "slideshow": {
     "slide_type": "fragment"
    }
   },
   "outputs": [
    {
     "name": "stdout",
     "output_type": "stream",
     "text": [
      "Local minimum occurs at 2.997997997997998\n"
     ]
    }
   ],
   "source": [
    "minimum=+inf\n",
    "mx=+inf\n",
    "import numpy as np\n",
    "\n",
    "\n",
    "for i in np.linspace(-5,5,1000):\n",
    "    if f(i)<minimum:\n",
    "        minimum=f(i)\n",
    "        mx=i\n",
    "\n",
    "\n",
    "print(\"Local minimum occurs at {}\".format(mx))"
   ]
  },
  {
   "cell_type": "markdown",
   "metadata": {
    "internals": {
     "frag_helper": "fragment_end",
     "frag_number": 5,
     "slide_type": "subslide"
    },
    "slideshow": {
     "slide_type": "slide"
    }
   },
   "source": [
    "### Gradient Descent"
   ]
  },
  {
   "cell_type": "code",
   "execution_count": 5,
   "metadata": {},
   "outputs": [],
   "source": [
    "def f_derivative(x):\n",
    "  \n",
    "    # Calculate the derivative and write your code here\n",
    "    first=(4*pow(x,3))\n",
    "    derivative=first+12*pow(x,2)\n",
    "    return derivative"
   ]
  },
  {
   "cell_type": "code",
   "execution_count": 6,
   "metadata": {
    "internals": {
     "frag_helper": "fragment_end",
     "frag_number": 7,
     "slide_helper": "subslide_end"
    },
    "slide_helper": "slide_end",
    "slideshow": {
     "slide_type": "fragment"
    }
   },
   "outputs": [
    {
     "name": "stdout",
     "output_type": "stream",
     "text": [
      "Local minimum occurs at [[0.10531495]]\n"
     ]
    }
   ],
   "source": [
    "x_old = 0\n",
    "x_new = np.random.rand(1,1) \n",
    "eps = 0.01 # step size\n",
    "precision = 0.00001\n",
    "\n",
    "for i in np.linspace(-5,5):\n",
    "    x_old=x_new\n",
    "    x_new=x_old-f_derivative(x_old)*eps\n",
    "    \n",
    "\n",
    "print (\"Local minimum occurs at\", x_new)"
   ]
  },
  {
   "cell_type": "markdown",
   "metadata": {
    "internals": {
     "frag_helper": "fragment_end",
     "frag_number": 7,
     "slide_helper": "subslide_end",
     "slide_type": "subslide"
    },
    "slide_helper": "slide_end",
    "slideshow": {
     "slide_type": "slide"
    }
   },
   "source": [
    "#### Always Check your gradient, before debugging gradient descent,\n",
    "\n",
    "We know that $$\\frac{\\partial f}{\\partial x}=\\frac{f(x+\\epsilon)-f(x)}{\\epsilon}$$\n",
    "\n",
    "So always compare the difference between computed gradient using this formula.\n"
   ]
  },
  {
   "cell_type": "markdown",
   "metadata": {
    "internals": {
     "frag_helper": "fragment_end",
     "frag_number": 7,
     "slide_type": "subslide"
    },
    "slideshow": {
     "slide_type": "slide"
    }
   },
   "source": [
    "#### Lets Check"
   ]
  },
  {
   "cell_type": "code",
   "execution_count": 7,
   "metadata": {
    "internals": {
     "frag_helper": "fragment_end",
     "frag_number": 10
    },
    "slideshow": {
     "slide_type": "fragment"
    }
   },
   "outputs": [
    {
     "name": "stdout",
     "output_type": "stream",
     "text": [
      "-13.500044999936732 40.5 -54.00004499993673\n"
     ]
    }
   ],
   "source": [
    "eps=0.00001\n",
    "x=1.5\n",
    "dfx=(f(x+eps)-f(x))/eps\n",
    "cdfx=f_derivative(x)\n",
    "\n",
    "print (dfx, cdfx, dfx-cdfx)"
   ]
  },
  {
   "cell_type": "markdown",
   "metadata": {},
   "source": [
    "### Let's generate some random data"
   ]
  },
  {
   "cell_type": "code",
   "execution_count": 8,
   "metadata": {},
   "outputs": [],
   "source": [
    "X = np.arange(0,5,0.1, dtype=np.float32)\n",
    "delta = np.random.uniform(-1,1, size=X.shape[0])\n",
    "Y = .4 * X + 3 + delta\n",
    "\n",
    "#making a copy for later use\n",
    "rx = X\n",
    "ry = Y"
   ]
  },
  {
   "cell_type": "code",
   "execution_count": 9,
   "metadata": {
    "internals": {
     "frag_helper": "fragment_end",
     "frag_number": 16,
     "slide_helper": "subslide_end"
    },
    "slide_helper": "slide_end",
    "slideshow": {
     "slide_type": "fragment"
    }
   },
   "outputs": [
    {
     "data": {
      "text/plain": [
       "Text(0, 0.5, 'Y')"
      ]
     },
     "execution_count": 9,
     "metadata": {},
     "output_type": "execute_result"
    },
    {
     "data": {
      "image/png": "[encoded data removed]",
      "text/plain": [
       "<Figure size 432x288 with 1 Axes>"
      ]
     },
     "metadata": {},
     "output_type": "display_data"
    }
   ],
   "source": [
    "plt.scatter(X,Y)\n",
    "plt.xlabel('X')\n",
    "plt.ylabel('Y')"
   ]
  },
  {
   "cell_type": "markdown",
   "metadata": {},
   "source": [
    "### Time for our regression implementation"
   ]
  },
  {
   "cell_type": "markdown",
   "metadata": {},
   "source": [
    "$$\n",
    "h(X, \\theta) = X^T . \\theta\n",
    "$$"
   ]
  },
  {
   "cell_type": "code",
   "execution_count": 10,
   "metadata": {},
   "outputs": [],
   "source": [
    "def hyp(theta, X):\n",
    "    # Your code here\n",
    "    return np.dot(theta,X)\n",
    "    "
   ]
  },
  {
   "cell_type": "markdown",
   "metadata": {},
   "source": [
    "$$\n",
    "cost = \\frac{1}{2m} \\sum_{i = 0}^m{(h(X^i, \\theta)-Y^i)}^2\n",
    "$$"
   ]
  },
  {
   "cell_type": "code",
   "execution_count": 11,
   "metadata": {
    "internals": {
     "frag_helper": "fragment_end",
     "frag_number": 21
    },
    "slideshow": {
     "slide_type": "-"
    }
   },
   "outputs": [],
   "source": [
    "def cost_function(theta,X,Y):\n",
    "\n",
    "    # Your code here\n",
    "    sum= np.sum(((hyp(X,theta) - Y)**2))\n",
    "    cost= sum/ (2 * X.shape[0])\n",
    "    print(cost)\n",
    "    \n",
    "    return cost"
   ]
  },
  {
   "cell_type": "markdown",
   "metadata": {},
   "source": [
    "$$\n",
    "\\frac{\\delta}{\\delta \\theta_j} = \\frac{1}{m} \\sum_{i = 0}^m{(h(X^i, \\theta)-Y^i)} * X_j\n",
    "$$"
   ]
  },
  {
   "cell_type": "code",
   "execution_count": 12,
   "metadata": {
    "internals": {
     "frag_helper": "fragment_end",
     "frag_number": 21
    },
    "slideshow": {
     "slide_type": "-"
    }
   },
   "outputs": [],
   "source": [
    "def derivative_cost_function(theta,X,Y):\n",
    "    \n",
    "    \n",
    "    # Your code here\n",
    "   \n",
    "    cost = (np.sum(hyp(X,theta) - Y) *X) / X.shape[0]\n",
    "    print(cost)\n",
    "    \n",
    "   \n",
    "    return cost\n"
   ]
  },
  {
   "cell_type": "markdown",
   "metadata": {},
   "source": [
    "*** Give Temporary values to cost function and derivative cost function before getting onto gradiant descent***\n",
    "\n",
    "*** To make sure that your both function are working fine ***"
   ]
  },
  {
   "cell_type": "code",
   "execution_count": 13,
   "metadata": {
    "internals": {
     "frag_helper": "fragment_end",
     "frag_number": 21
    },
    "slideshow": {
     "slide_type": "-"
    }
   },
   "outputs": [
    {
     "name": "stdout",
     "output_type": "stream",
     "text": [
      "(50,)\n",
      "(50, 2)\n"
     ]
    }
   ],
   "source": [
    "print (X.shape)\n",
    "nx=np.hstack((X,ones(len(X),)))\n",
    "nx=nx.reshape((2,X.shape[0])).T\n",
    "print (nx.shape)"
   ]
  },
  {
   "cell_type": "code",
   "execution_count": 14,
   "metadata": {
    "internals": {
     "frag_helper": "fragment_end",
     "frag_number": 21
    },
    "slideshow": {
     "slide_type": "-"
    }
   },
   "outputs": [
    {
     "name": "stdout",
     "output_type": "stream",
     "text": [
      "[0.5881308  0.89771373]\n"
     ]
    }
   ],
   "source": [
    "np.random.seed(20) # To make sure you have the same value as me\n",
    "eps=0.0001\n",
    "nexamples=float(nx.shape[0])\n",
    "thetas=np.random.rand(nx.shape[1],)\n",
    "print (thetas)"
   ]
  },
  {
   "cell_type": "code",
   "execution_count": 15,
   "metadata": {
    "internals": {
     "frag_helper": "fragment_end",
     "frag_number": 21
    },
    "slideshow": {
     "slide_type": "-"
    }
   },
   "outputs": [
    {
     "name": "stdout",
     "output_type": "stream",
     "text": [
      "1.6101443266033406\n",
      "1.6101443266033406\n"
     ]
    }
   ],
   "source": [
    "cf=cost_function(thetas,nx,Y)\n",
    "print (cf)"
   ]
  },
  {
   "cell_type": "code",
   "execution_count": 16,
   "metadata": {
    "internals": {
     "frag_helper": "fragment_end",
     "frag_number": 21
    },
    "slideshow": {
     "slide_type": "-"
    }
   },
   "outputs": [
    {
     "name": "stdout",
     "output_type": "stream",
     "text": [
      "[[-0.         -1.68599261]\n",
      " [-0.16859926 -1.68599261]\n",
      " [-0.33719853 -1.68599261]\n",
      " [-0.5057978  -1.68599261]\n",
      " [-0.67439705 -1.68599261]\n",
      " [-0.8429963  -1.68599261]\n",
      " [-1.01159561 -1.68599261]\n",
      " [-1.18019481 -1.68599261]\n",
      " [-1.34879411 -1.68599261]\n",
      " [-1.51739341 -1.68599261]\n",
      " [-1.68599261 -1.68599261]\n",
      " [-1.85459191 -1.68599261]\n",
      " [-2.02319121 -1.68599261]\n",
      " [-2.19179051 -1.68599261]\n",
      " [-2.36038961 -1.68599261]\n",
      " [-2.52898891 -1.68599261]\n",
      " [-2.69758822 -1.68599261]\n",
      " [-2.86618752 -1.68599261]\n",
      " [-3.03478682 -1.68599261]\n",
      " [-3.20338592 -1.68599261]\n",
      " [-3.37198522 -1.68599261]\n",
      " [-3.54058472 -1.68599261]\n",
      " [-3.70918382 -1.68599261]\n",
      " [-3.87778292 -1.68599261]\n",
      " [-4.04638242 -1.68599261]\n",
      " [-4.21498152 -1.68599261]\n",
      " [-4.38358103 -1.68599261]\n",
      " [-4.55218013 -1.68599261]\n",
      " [-4.72077923 -1.68599261]\n",
      " [-4.88937873 -1.68599261]\n",
      " [-5.05797783 -1.68599261]\n",
      " [-5.22657733 -1.68599261]\n",
      " [-5.39517643 -1.68599261]\n",
      " [-5.56377553 -1.68599261]\n",
      " [-5.73237503 -1.68599261]\n",
      " [-5.90097413 -1.68599261]\n",
      " [-6.06957363 -1.68599261]\n",
      " [-6.23817274 -1.68599261]\n",
      " [-6.40677184 -1.68599261]\n",
      " [-6.57537134 -1.68599261]\n",
      " [-6.74397044 -1.68599261]\n",
      " [-6.91256954 -1.68599261]\n",
      " [-7.08116944 -1.68599261]\n",
      " [-7.24976854 -1.68599261]\n",
      " [-7.41836764 -1.68599261]\n",
      " [-7.58696674 -1.68599261]\n",
      " [-7.75556584 -1.68599261]\n",
      " [-7.92416575 -1.68599261]\n",
      " [-8.09276485 -1.68599261]\n",
      " [-8.26136395 -1.68599261]]\n",
      "[[-0.         -1.68599261]\n",
      " [-0.16859926 -1.68599261]\n",
      " [-0.33719853 -1.68599261]\n",
      " [-0.5057978  -1.68599261]\n",
      " [-0.67439705 -1.68599261]\n",
      " [-0.8429963  -1.68599261]\n",
      " [-1.01159561 -1.68599261]\n",
      " [-1.18019481 -1.68599261]\n",
      " [-1.34879411 -1.68599261]\n",
      " [-1.51739341 -1.68599261]\n",
      " [-1.68599261 -1.68599261]\n",
      " [-1.85459191 -1.68599261]\n",
      " [-2.02319121 -1.68599261]\n",
      " [-2.19179051 -1.68599261]\n",
      " [-2.36038961 -1.68599261]\n",
      " [-2.52898891 -1.68599261]\n",
      " [-2.69758822 -1.68599261]\n",
      " [-2.86618752 -1.68599261]\n",
      " [-3.03478682 -1.68599261]\n",
      " [-3.20338592 -1.68599261]\n",
      " [-3.37198522 -1.68599261]\n",
      " [-3.54058472 -1.68599261]\n",
      " [-3.70918382 -1.68599261]\n",
      " [-3.87778292 -1.68599261]\n",
      " [-4.04638242 -1.68599261]\n",
      " [-4.21498152 -1.68599261]\n",
      " [-4.38358103 -1.68599261]\n",
      " [-4.55218013 -1.68599261]\n",
      " [-4.72077923 -1.68599261]\n",
      " [-4.88937873 -1.68599261]\n",
      " [-5.05797783 -1.68599261]\n",
      " [-5.22657733 -1.68599261]\n",
      " [-5.39517643 -1.68599261]\n",
      " [-5.56377553 -1.68599261]\n",
      " [-5.73237503 -1.68599261]\n",
      " [-5.90097413 -1.68599261]\n",
      " [-6.06957363 -1.68599261]\n",
      " [-6.23817274 -1.68599261]\n",
      " [-6.40677184 -1.68599261]\n",
      " [-6.57537134 -1.68599261]\n",
      " [-6.74397044 -1.68599261]\n",
      " [-6.91256954 -1.68599261]\n",
      " [-7.08116944 -1.68599261]\n",
      " [-7.24976854 -1.68599261]\n",
      " [-7.41836764 -1.68599261]\n",
      " [-7.58696674 -1.68599261]\n",
      " [-7.75556584 -1.68599261]\n",
      " [-7.92416575 -1.68599261]\n",
      " [-8.09276485 -1.68599261]\n",
      " [-8.26136395 -1.68599261]]\n"
     ]
    }
   ],
   "source": [
    "ad=derivative_cost_function(thetas,nx,Y)\n",
    "print (ad)"
   ]
  },
  {
   "cell_type": "code",
   "execution_count": 17,
   "metadata": {
    "internals": {
     "frag_helper": "fragment_end",
     "frag_number": 21
    },
    "scrolled": true,
    "slideshow": {
     "slide_type": "-"
    }
   },
   "outputs": [],
   "source": [
    "#Gradient Descent...\n",
    "def GradientDescent(X,Y,maxniter=20000):\n",
    "    nexamples=float(X.shape[0])\n",
    "    thetas=rand(X.shape[1],)\n",
    "    \n",
    "    \n",
    "    alpha=0.01\n",
    "    numiter=400\n",
    "    theta=0\n",
    "    # Your code here\n",
    "    xTrans = X.transpose()\n",
    "    for i in range(0, numiter):\n",
    "        h=hyp(X,theta)\n",
    "        loss= h.T-Y\n",
    "        Cost = sum(loss**2)/2.0*nexamples\n",
    "        print(Cost)\n",
    "        gradiants= np.dot(X.T,loss.T) / nexamples\n",
    "    \n",
    "        \n",
    "\n",
    "        theta = theta - alpha * gradiants\n",
    "    return theta"
   ]
  },
  {
   "cell_type": "code",
   "execution_count": 18,
   "metadata": {},
   "outputs": [
    {
     "name": "stdout",
     "output_type": "stream",
     "text": [
      "42297.61076724635\n",
      "35984.89731485069\n",
      "30736.747583583554\n",
      "26373.09345954599\n",
      "22744.32742652566\n",
      "19726.14979266261\n",
      "17215.28757022674\n",
      "15125.937557978821\n",
      "13386.811118604192\n",
      "11938.678867315564\n",
      "10732.330705683766\n",
      "9726.880940093593\n",
      "8888.360109641471\n",
      "8188.545023150644\n",
      "7603.9867093884395\n",
      "7115.2028011051325\n",
      "6706.006536950892\n",
      "6362.949270725944\n",
      "6074.857286843803\n",
      "5832.446968985993\n",
      "5628.005067570629\n",
      "5455.123053793565\n",
      "5308.476410852715\n",
      "5183.641260694706\n",
      "5076.9420105345835\n",
      "4985.324771783729\n",
      "4906.25219167555\n",
      "4837.616075375496\n",
      "4777.664789102646\n",
      "4724.942943878388\n",
      "4678.241282487467\n",
      "4636.555043656307\n",
      "4599.049369426094\n",
      "4565.030564280202\n",
      "4533.922216131831\n",
      "4505.245356730204\n",
      "4478.601978169463\n",
      "4453.661337775438\n",
      "4430.148579682893\n",
      "4407.8352812074045\n",
      "4386.531598409922\n",
      "4366.079740331435\n",
      "4346.348547137404\n",
      "4327.228985432395\n",
      "4308.630405594681\n",
      "4290.4774322260055\n",
      "4272.707380617569\n",
      "4255.268110250282\n",
      "4238.116241399749\n",
      "4221.215673422504\n",
      "4204.536353690471\n",
      "4188.053254773573\n",
      "4171.745524642813\n",
      "4155.59578062533\n",
      "4139.589522794121\n",
      "4123.714646588595\n",
      "4107.9610378799125\n",
      "4092.320236534571\n",
      "4076.7851568889855\n",
      "4061.349855507855\n",
      "4046.009338227715\n",
      "4030.759399840153\n",
      "4015.596490893262\n",
      "4000.517607023987\n",
      "3985.520197010007\n",
      "3970.6020863745025\n",
      "3955.7614139128773\n",
      "3940.9965789555395\n",
      "3926.306197550585\n",
      "3911.6890660575323\n",
      "3897.1441308983826\n",
      "3882.670463424502\n",
      "3868.2672390338453\n",
      "3853.9337198195967\n",
      "3839.66924015283\n",
      "3825.4731947028527\n",
      "3811.3450284829023\n",
      "3797.2842285785687\n",
      "3783.2903172743136\n",
      "3769.362846341553\n",
      "3755.501392291875\n",
      "3741.7055524320617\n",
      "3727.9749415853444\n",
      "3714.309189366169\n",
      "3700.707937914855\n",
      "3687.170840014326\n",
      "3673.6975575243464\n",
      "3660.287760079501\n",
      "3646.9411240063264\n",
      "3633.657331422546\n",
      "3620.4360694875822\n",
      "3607.2770297787692\n",
      "3594.1799077720198\n",
      "3581.1444024092716\n",
      "3568.1702157380187\n",
      "3555.2570526107884\n",
      "3542.4046204343754\n",
      "3529.612628960455\n",
      "3516.8807901105624\n",
      "3504.208817829651\n",
      "3491.5964279633663\n",
      "3479.0433381550683\n",
      "3466.5492677592256\n",
      "3454.113937768457\n",
      "3441.7370707518926\n",
      "3429.4183908029268\n",
      "3417.157623494836\n",
      "3404.9544958428855\n",
      "3392.8087362718356\n",
      "3380.720074587965\n",
      "3368.6882419548406\n",
      "3356.7129708721914\n",
      "3344.793995157369\n",
      "3332.9310499289995\n",
      "3321.123871592393\n",
      "3309.372197826479\n",
      "3297.6757675719823\n",
      "3286.0343210206443\n",
      "3274.447599605309\n",
      "3262.9153459907457\n",
      "3251.4373040650753\n",
      "3240.0132189317083\n",
      "3228.642836901716\n",
      "3217.3259054865534\n",
      "3206.0621733910943\n",
      "3194.85139050692\n",
      "3183.693307905827\n",
      "3172.5876778335155\n",
      "3161.534253703444\n",
      "3150.532790090813\n",
      "3139.583042726666\n",
      "3128.6847684920976\n",
      "3117.8377254125458\n",
      "3107.041672652162\n",
      "3096.2963705082457\n",
      "3085.601580405755\n",
      "3074.957064891855\n",
      "3064.362587630525\n",
      "3053.81791339721\n",
      "3043.3228080735125\n",
      "3032.8770386419264\n",
      "3022.480373180604\n",
      "3012.1325808581587\n",
      "3001.8334319284986\n",
      "2991.5826977256925\n",
      "2981.380150658865\n",
      "2971.225564207126\n",
      "2961.118712914509\n",
      "2951.0593723849643\n",
      "2941.0473192773543\n",
      "2931.082331300485\n",
      "2921.1641872081673\n",
      "2911.2926667942884\n",
      "2901.467550887925\n",
      "2891.6886213484618\n",
      "2881.955661060758\n",
      "2872.268453930309\n",
      "2862.626784878454\n",
      "2853.030439837596\n",
      "2843.4792057464465\n",
      "2833.972870545294\n",
      "2824.5112231712938\n",
      "2815.094053553781\n",
      "2805.721152609607\n",
      "2796.3923122384927\n",
      "2787.1073253184113\n",
      "2777.865985700987\n",
      "2768.668088206919\n",
      "2759.5134286214225\n",
      "2750.401803689702\n",
      "2741.3330111124255\n",
      "2732.306849541248\n",
      "2723.3231185743275\n",
      "2714.381618751883\n",
      "2705.482151551764\n",
      "2696.6245193850427\n",
      "2687.80852559163\n",
      "2679.033974435899\n",
      "2670.3006711023536\n",
      "2661.6084216912914\n",
      "2652.957033214506\n",
      "2644.346313590996\n",
      "2635.7760716427074\n",
      "2627.246117090279\n",
      "2618.7562605488315\n",
      "2610.30631352375\n",
      "2601.896088406505\n",
      "2593.5253984704855\n",
      "2585.194057866857\n",
      "2576.9018816204257\n",
      "2568.6486856255456\n",
      "2560.4342866420184\n",
      "2552.25850229103\n",
      "2544.1211510511016\n",
      "2536.0220522540603\n",
      "2527.9610260810264\n",
      "2519.93789355842\n",
      "2511.952476553991\n",
      "2504.0045977728573\n",
      "2496.0940807535776\n",
      "2488.2207498642288\n",
      "2480.384430298501\n",
      "2472.584948071829\n",
      "2464.822130017518\n",
      "2457.0958037829037\n",
      "2449.405797825528\n",
      "2441.751941409324\n",
      "2434.1340646008325\n",
      "2426.5519982654228\n",
      "2419.0055740635416\n",
      "2411.4946244469734\n",
      "2404.0189826551205\n",
      "2396.578482711304\n",
      "2389.1729594190724\n",
      "2381.802248358541\n",
      "2374.4661858827353\n",
      "2367.164609113959\n",
      "2359.8973559401848\n",
      "2352.664265011442\n",
      "2345.4651757362453\n",
      "2338.299928278026\n",
      "2331.1683635515806\n",
      "2324.0703232195424\n",
      "2317.005649688862\n",
      "2309.9741861073135\n",
      "2302.9757763600087\n",
      "2296.010265065931\n",
      "2289.0774975744853\n",
      "2282.177319962069\n",
      "2275.3095790286434\n",
      "2268.4741222943485\n",
      "2261.6707979961043\n",
      "2254.899455084246\n",
      "2248.1599432191692\n",
      "2241.452112767995\n",
      "2234.775814801246\n",
      "2228.130901089537\n",
      "2221.5172241002883\n",
      "2214.9346369944483\n",
      "2208.382993623232\n",
      "2201.8621485248796\n",
      "2195.3719569214227\n",
      "2188.9122747154743\n",
      "2182.4829584870236\n",
      "2176.0838654902577\n",
      "2169.714853650391\n",
      "2163.375781560508\n",
      "2157.0665084784246\n",
      "2150.7868943235667\n",
      "2144.5367996738555\n",
      "2138.3160857626153\n",
      "2132.1246144754905\n",
      "2125.9622483473804\n",
      "2119.8288505593864\n",
      "2113.7242849357744\n",
      "2107.648415940953\n",
      "2101.6011086764606\n",
      "2095.582228877975\n",
      "2089.591642912328\n",
      "2083.629217774542\n",
      "2077.694821084875\n",
      "2071.7883210858804\n",
      "2065.909586639485\n",
      "2060.058487224076\n",
      "2054.2348929316004\n",
      "2048.4386744646863\n",
      "2042.6697031337658\n",
      "2036.9278508542222\n",
      "2031.2129901435462\n",
      "2025.5249941185025\n",
      "2019.8637364923152\n",
      "2014.2290915718625\n",
      "2008.6209342548905\n",
      "2003.0391400272233\n",
      "1997.4835849600167\n",
      "1991.9541457069927\n",
      "1986.4506995017039\n",
      "1980.9731241548113\n",
      "1975.5212980513684\n",
      "1970.095100148123\n",
      "1964.6944099708269\n",
      "1959.3191076115652\n",
      "1953.9690737260892\n",
      "1948.6441895311714\n",
      "1943.3443368019657\n",
      "1938.069397869382\n",
      "1932.8192556174745\n",
      "1927.593793480842\n",
      "1922.3928954420408\n",
      "1917.2164460290062\n",
      "1912.064330312488\n",
      "1906.9364339035033\n",
      "1901.8326429507958\n",
      "1896.7528441383017\n",
      "1891.6969246826434\n",
      "1886.6647723306176\n",
      "1881.656275356708\n",
      "1876.6713225606022\n",
      "1871.709803264723\n",
      "1866.7716073117717\n",
      "1861.8566250622841\n",
      "1856.9647473921905\n",
      "1852.0958656904006\n",
      "1847.2498718563863\n",
      "1842.4266582977825\n",
      "1837.6261179280023\n",
      "1832.8481441638537\n",
      "1828.0926309231781\n",
      "1823.3594726224912\n",
      "1818.6485641746408\n",
      "1813.959800986475\n",
      "1809.293078956516\n",
      "1804.648294472651\n",
      "1800.0253444098355\n",
      "1795.4241261277957\n",
      "1790.8445374687574\n",
      "1786.286476755171\n",
      "1781.7498427874618\n",
      "1777.2345348417743\n",
      "1772.740452667744\n",
      "1768.267496486265\n",
      "1763.8155669872808\n",
      "1759.384565327576\n",
      "1754.9743931285768\n",
      "1750.5849524741798\n",
      "1746.2161459085653\n",
      "1741.8678764340384\n",
      "1737.5400475088782\n",
      "1733.23256304519\n",
      "1728.9453274067735\n",
      "1724.6782454069996\n",
      "1720.4312223066988\n",
      "1716.2041638120525\n",
      "1711.996976072506\n",
      "1707.8095656786797\n",
      "1703.6418396602976\n",
      "1699.4937054841237\n",
      "1695.3650710519078\n",
      "1691.255844698334\n",
      "1687.1659351889966\n",
      "1683.0952517183694\n",
      "1679.0437039077829\n",
      "1675.0112018034283\n",
      "1670.9976558743567\n",
      "1667.0029770104886\n",
      "1663.0270765206371\n",
      "1659.0698661305407\n",
      "1655.1312579808994\n",
      "1651.2111646254286\n",
      "1647.3094990289137\n",
      "1643.4261745652811\n",
      "1639.56110501567\n",
      "1635.7142045665241\n",
      "1631.885387807684\n",
      "1628.0745697304858\n",
      "1624.2816657258852\n",
      "1620.5065915825664\n",
      "1616.7492634850796\n",
      "1613.0095980119804\n",
      "1609.2875121339737\n",
      "1605.5829232120732\n",
      "1601.8957489957663\n",
      "1598.2259076211876\n",
      "1594.5733176092992\n",
      "1590.9378978640864\n",
      "1587.3195676707528\n",
      "1583.7182466939298\n",
      "1580.1338549758939\n",
      "1576.5663129347906\n",
      "1573.0155413628672\n",
      "1569.481461424714\n",
      "1565.9639946555153\n",
      "1562.4630629593066\n",
      "1558.9785886072398\n",
      "1555.5104942358587\n",
      "1552.058702845381\n",
      "1548.623137797988\n",
      "1545.2037228161244\n",
      "1541.8003819808036\n",
      "1538.413039729922\n",
      "1535.0416208565834\n",
      "1531.6860505074262\n",
      "1528.3462541809636\n",
      "1525.0221577259292\n",
      "1521.71368733963\n",
      "1518.420769566308\n",
      "1515.1433312955094\n",
      "1511.8812997604625\n",
      "1508.6346025364594\n",
      "1505.4031675392512\n",
      "1502.1869230234452\n",
      "1498.985797580913\n",
      "1495.799720139205\n",
      "1492.6286199599717\n",
      "1489.4724266373948\n",
      "1486.3310700966222\n",
      "1483.204480592213\n",
      "1480.0925887065894\n",
      "1476.9953253484941\n",
      "1473.9126217514588\n"
     ]
    }
   ],
   "source": [
    "theta_new=GradientDescent(nx,Y)"
   ]
  },
  {
   "cell_type": "code",
   "execution_count": 20,
   "metadata": {},
   "outputs": [
    {
     "data": {
      "text/plain": [
       "[<matplotlib.lines.Line2D at 0x135d3d71f10>,\n",
       " <matplotlib.lines.Line2D at 0x135d3d80070>]"
      ]
     },
     "execution_count": 20,
     "metadata": {},
     "output_type": "execute_result"
    },
    {
     "data": {
      "image/png": "[encoded data removed]",
      "text/plain": [
       "<Figure size 432x288 with 1 Axes>"
      ]
     },
     "metadata": {},
     "output_type": "display_data"
    }
   ],
   "source": [
    "plt.scatter(X,Y)\n",
    "plt.xlabel('X')\n",
    "plt.ylabel('Y')\n",
    "plt.plot(nx[:,0],np.dot(nx,theta_new))"
   ]
  }
 ],
 "metadata": {
  "kernelspec": {
   "display_name": "Python 3",
   "language": "python",
   "name": "python3"
  },
  "language_info": {
   "codemirror_mode": {
    "name": "ipython",
    "version": 3
   },
   "file_extension": ".py",
   "mimetype": "text/x-python",
   "name": "python",
   "nbconvert_exporter": "python",
   "pygments_lexer": "ipython3",
   "version": "3.8.5"
  }
 },
 "nbformat": 4,
 "nbformat_minor": 1
}
